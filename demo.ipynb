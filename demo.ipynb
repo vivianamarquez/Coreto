{
 "cells": [
  {
   "cell_type": "markdown",
   "metadata": {},
   "source": [
    "<img src='https://pbs.twimg.com/profile_images/1348593110926942216/wtIeaDRq_400x400.jpg' style='height:100px; float: left; margin: 0px 15px 15px 0px'>\n",
    "\n",
    "# Script to get alerts from Coreto"
   ]
  },
  {
   "cell_type": "code",
   "execution_count": 1,
   "metadata": {},
   "outputs": [],
   "source": [
    "import os\n",
    "from twilio.rest import Client\n",
    "\n",
    "import bs4 as bs\n",
    "import unidecode\n",
    "import urllib.request\n",
    "\n",
    "import time\n",
    "import random\n",
    "import pandas as pd\n",
    "from datetime import datetime"
   ]
  },
  {
   "cell_type": "markdown",
   "metadata": {},
   "source": [
    "# Scrape Coin Market Cap for Coreto's Price"
   ]
  },
  {
   "cell_type": "code",
   "execution_count": 2,
   "metadata": {},
   "outputs": [
    {
     "ename": "KeyboardInterrupt",
     "evalue": "",
     "output_type": "error",
     "traceback": [
      "\u001b[0;31m---------------------------------------------------------------------------\u001b[0m",
      "\u001b[0;31mKeyboardInterrupt\u001b[0m                         Traceback (most recent call last)",
      "\u001b[0;32m<ipython-input-2-cd3c458c7eb3>\u001b[0m in \u001b[0;36m<module>\u001b[0;34m\u001b[0m\n\u001b[1;32m      5\u001b[0m     \u001b[0mexit\u001b[0m\u001b[0;34m(\u001b[0m\u001b[0;34m)\u001b[0m\u001b[0;34m\u001b[0m\u001b[0;34m\u001b[0m\u001b[0m\n\u001b[1;32m      6\u001b[0m \u001b[0;34m\u001b[0m\u001b[0m\n\u001b[0;32m----> 7\u001b[0;31m \u001b[0mtime\u001b[0m\u001b[0;34m.\u001b[0m\u001b[0msleep\u001b[0m\u001b[0;34m(\u001b[0m\u001b[0mpause\u001b[0m\u001b[0;34m)\u001b[0m\u001b[0;34m\u001b[0m\u001b[0;34m\u001b[0m\u001b[0m\n\u001b[0m",
      "\u001b[0;31mKeyboardInterrupt\u001b[0m: "
     ]
    }
   ],
   "source": [
    "# Random pause to avoid being detected\n",
    "pause = random.randrange(111)\n",
    "\n",
    "if pause%10==0:\n",
    "    exit()\n",
    "    \n",
    "time.sleep(pause)"
   ]
  },
  {
   "cell_type": "code",
   "execution_count": 3,
   "metadata": {},
   "outputs": [],
   "source": [
    "link = \"https://coinmarketcap.com/currencies/coreto/\""
   ]
  },
  {
   "cell_type": "code",
   "execution_count": 4,
   "metadata": {},
   "outputs": [],
   "source": [
    "request = urllib.request.Request(link, headers={'User-Agent': 'Mozilla/5.0'})\n",
    "\n",
    "webpage = urllib.request.urlopen(request)\n",
    "source = webpage.read()\n",
    "webpage.close()\n",
    "\n",
    "current_time = datetime.now().strftime(\"%m/%d/%Y, %H:%M:%S\")\n",
    "soup = bs.BeautifulSoup(source, 'html.parser')"
   ]
  },
  {
   "cell_type": "code",
   "execution_count": 5,
   "metadata": {},
   "outputs": [],
   "source": [
    "price = unidecode.unidecode(soup.find(class_=\"price\").text).split()[1]\n",
    "pct = unidecode.unidecode(soup.find(class_=\"price\").text).split()[2]"
   ]
  },
  {
   "cell_type": "markdown",
   "metadata": {},
   "source": [
    "# Save results to a dataframe"
   ]
  },
  {
   "cell_type": "code",
   "execution_count": 7,
   "metadata": {},
   "outputs": [],
   "source": [
    "try:\n",
    "    df = pd.read_csv(\"coreto_price.csv\")\n",
    "    temp = pd.DataFrame([(current_time, price, pct, True)], columns = [\"time\", \"price\", \"pct\", \"flag\"])\n",
    "    df = pd.concat([df, temp], ignore_index=True)\n",
    "    df.to_csv(\"coreto_price.csv\", index=False)\n",
    "except:\n",
    "    df = pd.DataFrame([(current_time, price, pct, True)], columns = [\"time\", \"price\", \"pct\", \"flag\"])\n",
    "    df.to_csv(\"coreto_price.csv\", index=False)"
   ]
  },
  {
   "cell_type": "markdown",
   "metadata": {},
   "source": [
    "# Send text message using Twilio"
   ]
  },
  {
   "cell_type": "code",
   "execution_count": 25,
   "metadata": {},
   "outputs": [],
   "source": [
    "# Find difference between the last sent price and current price\n",
    "latest_prices = df[df.flag].iloc[-2:].price.apply(lambda val: float(val[1:])).values\n",
    "sgn = latest_prices[0]-latest_prices[1]\n",
    "diff = abs(sgn)\n",
    "sgn = \"🌲\" if sgn <0 else \"🔻\""
   ]
  },
  {
   "cell_type": "code",
   "execution_count": 16,
   "metadata": {},
   "outputs": [
    {
     "data": {
      "text/plain": [
       "False"
      ]
     },
     "execution_count": 16,
     "metadata": {},
     "output_type": "execute_result"
    }
   ],
   "source": [
    "# Excecute code if difference is higher than USD$0.005 \n",
    "flag = round(diff,3)>=0.001"
   ]
  },
  {
   "cell_type": "code",
   "execution_count": 101,
   "metadata": {},
   "outputs": [],
   "source": [
    "def send_msg(text, number, sender):\n",
    "    message = client.messages.create(body=text,\n",
    "                                     from_=sender,\n",
    "                                     to=number)"
   ]
  },
  {
   "cell_type": "code",
   "execution_count": 102,
   "metadata": {},
   "outputs": [],
   "source": [
    "if flag:\n",
    "    # Read Twilio credentials and authenticate\n",
    "    keys = pd.read_csv(\"twilio.csv\", header=None)\n",
    "    keys = dict(zip(keys[0],keys[1]))\n",
    "\n",
    "    client = Client(keys['account_sid'], keys['auth_token'])\n",
    "    \n",
    "    # Read target phone numbers\n",
    "    phones = pd.read_csv(\"phones.csv\", header=None)\n",
    "    phones[1] = phones[1].apply(lambda val: f\"+{str(val)}\")\n",
    "    phones = dict(zip(phones[0],phones[1]))\n",
    "    \n",
    "    # Compose text message\n",
    "    msg = f\"Lapi 🐰❤️ Coreto's price is {price}. Price changed ${diff} from last text message. Scraped @ {current_time}\"\n",
    "    \n",
    "    for person in phones:\n",
    "        number = phones[person]\n",
    "        send_msg(msg, number, keys['sender'])\n",
    "        \n",
    "else:\n",
    "    temp.flag = ~temp.flag\n",
    "    df = pd.concat([df.iloc[:-1], temp], ignore_index=True)\n",
    "    df.to_csv(\"coreto_price.csv\", index=False)"
   ]
  }
 ],
 "metadata": {
  "kernelspec": {
   "display_name": "Python 3",
   "language": "python",
   "name": "python3"
  },
  "language_info": {
   "codemirror_mode": {
    "name": "ipython",
    "version": 3
   },
   "file_extension": ".py",
   "mimetype": "text/x-python",
   "name": "python",
   "nbconvert_exporter": "python",
   "pygments_lexer": "ipython3",
   "version": "3.8.5"
  }
 },
 "nbformat": 4,
 "nbformat_minor": 5
}
